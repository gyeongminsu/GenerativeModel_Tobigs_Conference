{
 "cells": [
  {
   "cell_type": "markdown",
   "metadata": {},
   "source": [
    "https://docs.ultralytics.com/tasks/segment/#export"
   ]
  },
  {
   "cell_type": "code",
   "execution_count": 34,
   "metadata": {},
   "outputs": [
    {
     "name": "stdout",
     "output_type": "stream",
     "text": [
      "Ultralytics YOLOv8.2.48 🚀 Python-3.8.13 torch-2.3.0+cu121 CUDA:0 (NVIDIA RTX A6000, 48577MiB)\n",
      "Setup complete ✅ (64 CPUs, 1007.5 GB RAM, 6.2/503.8 GB disk)\n",
      "\n",
      "image 1/1 /home2/kkms4641/GenerativeModel_Tobigs_Conference_20-21/data/dog1/KakaoTalk_20240517_172400328_01.jpg: 640x480 1 person, 1 teddy bear, 12.8ms\n",
      "Speed: 3.4ms preprocess, 12.8ms inference, 1.3ms postprocess per image at shape (1, 3, 640, 480)\n",
      "Results saved to \u001b[1mruns/segment/predict17\u001b[0m\n",
      "Segmented image saved successfully at /home2/kkms4641/GenerativeModel_Tobigs_Conference_20-21/data/dog1/KakaoTalk_20240517_172400328_01_segmented.jpg.\n"
     ]
    }
   ],
   "source": [
    "import cv2\n",
    "import numpy as np\n",
    "from ultralytics import YOLO\n",
    "\n",
    "# Check Ultralytics environment\n",
    "ultralytics.checks()\n",
    "\n",
    "# Load the YOLOv8 model\n",
    "model = YOLO('yolov8x-seg.pt')\n",
    "\n",
    "# Perform prediction on the image\n",
    "results = model.predict(source=\"/home2/kkms4641/GenerativeModel_Tobigs_Conference_20-21/data/dog1/KakaoTalk_20240517_172400328_01.jpg\", save=True)\n",
    "\n",
    "# Extract the segmentation masks and classes\n",
    "masks = results[0].masks\n",
    "boxes = results[0].boxes\n",
    "\n",
    "\n",
    "# Check if masks and boxes exist\n",
    "if masks is not None and boxes is not None:\n",
    "    # Extract classes from the boxes\n",
    "    classes = boxes.cls.cpu().numpy()\n",
    "\n",
    "    # Specify the class index you want to keep (e.g., 1 for \"person\")\n",
    "    target_classes = [16, 21, 77]\n",
    "\n",
    "    # Create a blank image to store the result\n",
    "    image = cv2.imread(\"/home2/kkms4641/GenerativeModel_Tobigs_Conference_20-21/data/dog1/KakaoTalk_20240517_172400328_01.jpg\")\n",
    "    height, width, _ = image.shape\n",
    "\n",
    "    result_image = np.zeros_like(image)\n",
    "\n",
    "    # Iterate through the masks and keep only the target class\n",
    "    for mask, cls in zip(masks.data, classes):\n",
    "        if cls in target_classes:\n",
    "            mask = mask.cpu().numpy().astype(np.uint8)\n",
    "            resized_mask = cv2.resize(mask, (width, height), interpolation=cv2.INTER_NEAREST)\n",
    "            result_image[resized_mask == 1] = image[resized_mask == 1]\n",
    "\n",
    "    # Save the result image\n",
    "    output_path = \"/home2/kkms4641/GenerativeModel_Tobigs_Conference_20-21/data/dog1/KakaoTalk_20240517_172400328_01_segmented.jpg\"\n",
    "    cv2.imwrite(output_path, result_image)\n",
    "\n",
    "    print(f\"Segmented image saved successfully at {output_path}.\")\n",
    "else:\n",
    "    print(\"No masks or boxes found in the results.\")\n"
   ]
  },
  {
   "cell_type": "code",
   "execution_count": null,
   "metadata": {},
   "outputs": [],
   "source": []
  }
 ],
 "metadata": {
  "kernelspec": {
   "display_name": "Python 3 (ipykernel)",
   "language": "python",
   "name": "python3"
  },
  "language_info": {
   "codemirror_mode": {
    "name": "ipython",
    "version": 3
   },
   "file_extension": ".py",
   "mimetype": "text/x-python",
   "name": "python",
   "nbconvert_exporter": "python",
   "pygments_lexer": "ipython3",
   "version": "3.8.13"
  }
 },
 "nbformat": 4,
 "nbformat_minor": 2
}
