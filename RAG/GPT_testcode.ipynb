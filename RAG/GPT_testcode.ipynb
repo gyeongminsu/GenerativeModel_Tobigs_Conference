{
 "cells": [
  {
   "cell_type": "code",
   "execution_count": 29,
   "metadata": {},
   "outputs": [],
   "source": [
    "import json\n",
    "import pandas as pd\n",
    "import numpy as np\n",
    "import time\n",
    "from typing import Union\n",
    "from tqdm import tqdm\n",
    "\n",
    "import openai\n",
    "from openai import AsyncOpenAI\n",
    "import asyncio\n",
    "import nest_asyncio"
   ]
  },
  {
   "cell_type": "markdown",
   "metadata": {},
   "source": [
    "### GPT API"
   ]
  },
  {
   "cell_type": "code",
   "execution_count": 36,
   "metadata": {},
   "outputs": [],
   "source": [
    "# GPT API 호출 및 생성\n",
    "\n",
    "def openai_error_handling(func, **kwargs):\n",
    "    try:\n",
    "        return func(**kwargs)\n",
    "    except (openai.APIError, openai.RateLimitError, openai.APIConnectionError) as e:\n",
    "        print(e)\n",
    "        print('retrying...')\n",
    "        time.sleep(2)\n",
    "        return openai_error_handling(func, **kwargs)\n",
    "\n",
    "\n",
    "class OpenAIModel() :\n",
    "    def __init__(self, model) :\n",
    "        super(OpenAIModel, self).__init__()\n",
    "        self.model_name = model\n",
    "        self.client = AsyncOpenAI(\n",
    "                        api_key='<type your OpenAI API Key>',\n",
    "                        organization='<type your OpenAI Organization Key>',\n",
    "                    )\n",
    "        self.api_key = '<type your OpenAI API Key>'\n",
    "        self.org_key = '<type your OpenAI Organization Key>'\n",
    "\n",
    "    async def get_response(self, input_text) :\n",
    "        completion = await openai_error_handling(\n",
    "                self.client.chat.completions.create, \n",
    "                model=self.model_name, \n",
    "                messages=[{\"role\": \"assistant\", \"content\": input_text}], \n",
    "                #max_tokens=700, n=1, \n",
    "                temperature=0\n",
    "                )\n",
    "        return completion.choices[0].message.content"
   ]
  },
  {
   "cell_type": "code",
   "execution_count": 37,
   "metadata": {},
   "outputs": [],
   "source": [
    "def generation(model_name, prompt):\n",
    "    nest_asyncio.apply()\n",
    "\n",
    "    model = OpenAIModel(model_name)\n",
    "\n",
    "    loop = asyncio.get_event_loop()\n",
    "    response = loop.run_until_complete(model.get_response(prompt))\n",
    "\n",
    "    return response"
   ]
  },
  {
   "cell_type": "markdown",
   "metadata": {},
   "source": [
    "### Prompt"
   ]
  },
  {
   "cell_type": "markdown",
   "metadata": {},
   "source": [
    "RAG를 거쳐 얻은 Prompt를 활용한 생성 결과 vs 활용하지 않은 생성 결과의 차이를 확인"
   ]
  },
  {
   "cell_type": "code",
   "execution_count": 38,
   "metadata": {},
   "outputs": [],
   "source": [
    "template = '''\n",
    "### instruction ###\n",
    "I want to make an AI pet profile with a picture of my dog.\n",
    "The given Input Query Text is the form of the AI pet profile that the user wants. \n",
    "Use the Example Prompt below to create a New Prompt that can be put into the generated AI model according to the purpose of the given Text.\n",
    "\n",
    "### Input Text ###\n",
    "User Query: {}\n",
    "Example Prompt: {}\n",
    "=========\n",
    "New Prompt:\n",
    "'''"
   ]
  },
  {
   "cell_type": "code",
   "execution_count": 39,
   "metadata": {},
   "outputs": [],
   "source": [
    "# prompt의 괄호 내에 포함시킬 값\n",
    "user_query = 'I want to make my pet under the desk with a lot of toys.'\n",
    "example_prompt = \"beautiful picture of stray caramel dog and a green and yellow flag, glowing colors, fantasy art, trending on artstation, cgsociety, nice composition, great fantasy mood, classic Disney mood\""
   ]
  },
  {
   "cell_type": "code",
   "execution_count": 40,
   "metadata": {},
   "outputs": [],
   "source": [
    "# prompt에 괄호가 n개면 format 인자로 순서에 맞춰서 n개 넣어주면 됨\n",
    "prompt = template.format(user_query, example_prompt)"
   ]
  },
  {
   "cell_type": "code",
   "execution_count": 41,
   "metadata": {},
   "outputs": [],
   "source": [
    "response = generation('gpt-4o', prompt)"
   ]
  },
  {
   "cell_type": "code",
   "execution_count": 42,
   "metadata": {},
   "outputs": [
    {
     "data": {
      "text/plain": [
       "'### New Prompt ###\\nadorable picture of a dog under a desk surrounded by a lot of colorful toys, warm and cozy atmosphere, vibrant colors, trending on artstation, cgsociety, playful and joyful mood, classic Disney style'"
      ]
     },
     "execution_count": 42,
     "metadata": {},
     "output_type": "execute_result"
    }
   ],
   "source": [
    "response"
   ]
  },
  {
   "cell_type": "markdown",
   "metadata": {},
   "source": [
    "user_query = 'I want to make my pet under the desk with a lot of toys.'  \n",
    "\n",
    "example_prompt = \"beautiful picture of stray caramel dog and a green and yellow flag, glowing colors, fantasy art, trending on artstation, cgsociety, nice composition, great fantasy mood, classic Disney mood\"  \n",
    "\n",
    "New Prompt = adorable picture of a dog under a desk surrounded by a lot of colorful toys, warm and cozy atmosphere, vibrant colors, trending on artstation, cgsociety, playful and joyful mood, classic Disney style"
   ]
  }
 ],
 "metadata": {
  "kernelspec": {
   "display_name": "Python 3",
   "language": "python",
   "name": "python3"
  },
  "language_info": {
   "codemirror_mode": {
    "name": "ipython",
    "version": 3
   },
   "file_extension": ".py",
   "mimetype": "text/x-python",
   "name": "python",
   "nbconvert_exporter": "python",
   "pygments_lexer": "ipython3",
   "version": "3.10.14"
  }
 },
 "nbformat": 4,
 "nbformat_minor": 2
}
